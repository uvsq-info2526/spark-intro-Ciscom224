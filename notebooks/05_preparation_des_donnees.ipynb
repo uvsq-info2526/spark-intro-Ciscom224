{
 "cells": [
  {
   "cell_type": "markdown",
   "metadata": {},
   "source": [
    "# Initialiser Spark"
   ]
  },
  {
   "cell_type": "code",
   "execution_count": 2,
   "metadata": {},
   "outputs": [
    {
     "name": "stderr",
     "output_type": "stream",
     "text": [
      "WARNING: Using incubator modules: jdk.incubator.vector\n",
      "Using Spark's default log4j profile: org/apache/spark/log4j2-defaults.properties\n",
      "25/10/21 11:47:55 WARN Utils: Your hostname, MacBook-Pro-de-Mamadou.local, resolves to a loopback address: 127.0.0.1; using 172.20.10.4 instead (on interface en0)\n",
      "25/10/21 11:47:55 WARN Utils: Set SPARK_LOCAL_IP if you need to bind to another address\n",
      "Using Spark's default log4j profile: org/apache/spark/log4j2-defaults.properties\n",
      "Setting default log level to \"WARN\".\n",
      "To adjust logging level use sc.setLogLevel(newLevel). For SparkR, use setLogLevel(newLevel).\n",
      "25/10/21 11:47:55 WARN NativeCodeLoader: Unable to load native-hadoop library for your platform... using builtin-java classes where applicable\n",
      "25/10/21 11:47:55 WARN Utils: Service 'SparkUI' could not bind on port 4040. Attempting port 4041.\n"
     ]
    }
   ],
   "source": [
    "from pyspark import SparkContext, SparkConf\n",
    "conf = SparkConf().setAppName(\"Notebook\").setMaster(\"local\")\n",
    "sc = SparkContext(conf=conf)"
   ]
  },
  {
   "cell_type": "markdown",
   "metadata": {},
   "source": [
    "# Vérifier le contenu du fichier"
   ]
  },
  {
   "cell_type": "code",
   "execution_count": 7,
   "metadata": {},
   "outputs": [
    {
     "name": "stderr",
     "output_type": "stream",
     "text": [
      "                                                                                \r"
     ]
    },
    {
     "data": {
      "text/plain": [
       "['1;JEAN;1967;79;23',\n",
       " '2;ROSE;1941;32;5',\n",
       " '2;LYNE;2015;88;3',\n",
       " '2;NEÏLA;2013;76;3',\n",
       " '1;JEAN-LUC;1965;59;276',\n",
       " '2;SHERINE;2005;31;4',\n",
       " '2;LUCY;2016;17;3',\n",
       " '1;EVANN;2004;22;5',\n",
       " '1;ELOUAN;2008;41;5',\n",
       " '1;EDOUARD;1980;35;3']"
      ]
     },
     "execution_count": 7,
     "metadata": {},
     "output_type": "execute_result"
    }
   ],
   "source": [
    "prenoms = sc.textFile(\"/Users/ciscom/Desktop/Cours/M2/Spark/Fichiers pour le cours et les TDs-20251021/prenoms_et_dpts.txt/prenoms.txt\")\n",
    "prenoms.takeSample(False, 10)"
   ]
  },
  {
   "cell_type": "markdown",
   "metadata": {},
   "source": [
    "# Extraire et sauvegarder un échantillon\n",
    "1. Expliquer ce que fait la ligne suivante"
   ]
  },
  {
   "cell_type": "code",
   "execution_count": 12,
   "metadata": {},
   "outputs": [
    {
     "name": "stderr",
     "output_type": "stream",
     "text": [
      "                                                                                \r"
     ]
    }
   ],
   "source": [
    "prenoms.filter(lambda l: l.startswith(\"sexe\") == False)\\\n",
    "    .filter(lambda l: \"XX\" not in l)\\\n",
    "    .sample(False, .001)\\\n",
    "    .saveAsTextFile(\"prenoms_sample.txt\")"
   ]
  },
  {
   "cell_type": "markdown",
   "metadata": {},
   "source": [
    "- sauvegarde tous les prenoms de femmes dont on connait toutes les informations \n",
    "- *_filter(lambda l: l.startswith(\"sexe\") == False)_* : filterage des femmes \n",
    "- *_filter(lambda l: \"XX\" not in l)_* : Les lignes qui ne contenant pas XX (les lignes dont toutes les infos sont fournis)\n",
    "- *_sample(False, .001)_* : fractionner avec un taux de 0.1% *False* Sans remise (chaque ligne ne peut etre choisi qu'une seule fois)"
   ]
  },
  {
   "cell_type": "markdown",
   "metadata": {},
   "source": [
    "# Vérifier l'échantillon"
   ]
  },
  {
   "cell_type": "code",
   "execution_count": 8,
   "metadata": {},
   "outputs": [
    {
     "name": "stdout",
     "output_type": "stream",
     "text": [
      "3657\n",
      "0\n",
      "0\n"
     ]
    }
   ],
   "source": [
    "echantillon = sc.textFile(\"prenoms_sample.txt\")\n",
    "print(echantillon.count())\n",
    "print(echantillon.filter(lambda l: l.startswith(\"sexe\")).count())\n",
    "print(echantillon.filter(lambda l: \"XX\" in l).count())"
   ]
  }
 ],
 "metadata": {
  "kernelspec": {
   "display_name": "sparkenv",
   "language": "python",
   "name": "python3"
  },
  "language_info": {
   "codemirror_mode": {
    "name": "ipython",
    "version": 3
   },
   "file_extension": ".py",
   "mimetype": "text/x-python",
   "name": "python",
   "nbconvert_exporter": "python",
   "pygments_lexer": "ipython3",
   "version": "3.13.0"
  }
 },
 "nbformat": 4,
 "nbformat_minor": 2
}
